{
 "cells": [
  {
   "cell_type": "code",
   "execution_count": 87,
   "metadata": {},
   "outputs": [],
   "source": [
    "import jieba\n",
    "import numpy as np\n",
    "import pandas as pd\n",
    "import math\n",
    "import re\n",
    "import csv\n",
    "import networkx\n",
    "import matplotlib.pyplot as plt"
   ]
  },
  {
   "cell_type": "code",
   "execution_count": 15,
   "metadata": {},
   "outputs": [
    {
     "name": "stdout",
     "output_type": "stream",
     "text": [
      "(1800, 5)\n"
     ]
    }
   ],
   "source": [
    "articles = pd.read_csv('gcore_article.csv',encoding='gb18030')\n",
    "print(articles.shape)"
   ]
  },
  {
   "cell_type": "code",
   "execution_count": 8,
   "metadata": {},
   "outputs": [],
   "source": [
    "with open('stopwords.txt','r') as f:\n",
    "    stop_words = f.readlines()\n",
    "for i in range(len(stop_words)):\n",
    "    stop_words[i] = stop_words[i].rstrip('\\n')"
   ]
  },
  {
   "cell_type": "code",
   "execution_count": 16,
   "metadata": {},
   "outputs": [],
   "source": [
    "for i in range(articles.shape[0]):\n",
    "    if pd.isna(articles['content'][i]):\n",
    "        articles['content'][i] = ''\n",
    "    cut_list = [word for word in jieba.cut_for_search(articles['content'][i]) if word not in stop_words]\n",
    "    articles['content'][i] = cut_list"
   ]
  },
  {
   "cell_type": "code",
   "execution_count": 17,
   "metadata": {},
   "outputs": [],
   "source": [
    "for i in range(articles.shape[0]):\n",
    "    cut_list = [word for word in jieba.cut_for_search(articles['title'][i]) if word not in stop_words]\n",
    "    articles['title'][i] = cut_list"
   ]
  },
  {
   "cell_type": "code",
   "execution_count": 60,
   "metadata": {},
   "outputs": [],
   "source": [
    "for i in range(articles.shape[0]):\n",
    "    t = articles['links'][i]\n",
    "    t = t.strip('[').strip(']').split(',')\n",
    "    for j in range(len(t)):\n",
    "        t[j] = t[j].strip(' ').lstrip('\\'').rstrip('\\'')\n",
    "        t[j] = t[j].replace('https://www.gcores.com/link?target=','')\n",
    "    t = [link for link in t if \"https://www.gcores.com/articles/\" in link]\n",
    "    articles['links'][i] = t"
   ]
  },
  {
   "cell_type": "code",
   "execution_count": 91,
   "metadata": {},
   "outputs": [],
   "source": [
    "url_dict = {}\n",
    "url_list = []\n",
    "pagegraph = networkx.DiGraph()\n",
    "for i in range(articles.shape[0]):\n",
    "    url_list.append(articles['url'][i])\n",
    "    url_dict[articles['url'][i]] = articles['links'][i]\n",
    "for url, links in url_dict.items():\n",
    "    for link in links:\n",
    "        if link in url_list:\n",
    "            pagegraph.add_edge(url, link)\n",
    "pr = networkx.pagerank(pagegraph, alpha=0.85)"
   ]
  },
  {
   "cell_type": "code",
   "execution_count": 92,
   "metadata": {},
   "outputs": [],
   "source": [
    "page_rank_df = pd.Series(pr, name='page_rank')\n",
    "page_rank_df = page_rank_df.apply(lambda x: math.log(x * 10000, 10) + 1)\n",
    "page_rank_df.index.name = 'url'\n",
    "page_rank_df.to_csv('page_rank.csv')"
   ]
  },
  {
   "cell_type": "code",
   "execution_count": 93,
   "metadata": {},
   "outputs": [],
   "source": [
    "csv_headers = ['title','url','date','content']\n",
    "with open('gcore_article_cut.csv', 'w', encoding='gb18030', newline='') as f:\n",
    "    csv_writer = csv.writer(f)\n",
    "    csv_writer.writerow(csv_headers)"
   ]
  },
  {
   "cell_type": "code",
   "execution_count": 94,
   "metadata": {},
   "outputs": [],
   "source": [
    "for i in range(articles.shape[0]):\n",
    "    s1 = ' '.join(articles['title'][i])\n",
    "    s2 = ' '.join(articles['content'][i])\n",
    "    article_info = {\n",
    "        \"title\": s1,\n",
    "        \"url\": articles['url'][i],\n",
    "        \"date\": articles['date'][i],\n",
    "        \"content\": s2,\n",
    "    }\n",
    "    with open('gcore_article_cut.csv', 'a', encoding='gb18030', newline='') as f:\n",
    "        csv_writer = csv.DictWriter(f, fieldnames=article_info.keys())\n",
    "        csv_writer.writerow(article_info)"
   ]
  }
 ],
 "metadata": {
  "kernelspec": {
   "display_name": "ir",
   "language": "python",
   "name": "python3"
  },
  "language_info": {
   "codemirror_mode": {
    "name": "ipython",
    "version": 3
   },
   "file_extension": ".py",
   "mimetype": "text/x-python",
   "name": "python",
   "nbconvert_exporter": "python",
   "pygments_lexer": "ipython3",
   "version": "3.7.0"
  }
 },
 "nbformat": 4,
 "nbformat_minor": 2
}
